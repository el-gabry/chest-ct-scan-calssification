{
 "cells": [
  {
   "cell_type": "code",
   "execution_count": 1,
   "metadata": {},
   "outputs": [],
   "source": [
    "import os"
   ]
  },
  {
   "cell_type": "code",
   "execution_count": 2,
   "metadata": {},
   "outputs": [
    {
     "data": {
      "text/plain": [
       "'e:\\\\learning\\\\projects\\\\chest-ct-scan-calssification\\\\research'"
      ]
     },
     "execution_count": 2,
     "metadata": {},
     "output_type": "execute_result"
    }
   ],
   "source": [
    "%pwd"
   ]
  },
  {
   "cell_type": "code",
   "execution_count": 3,
   "metadata": {},
   "outputs": [],
   "source": [
    "os.chdir(\"../\")"
   ]
  },
  {
   "cell_type": "code",
   "execution_count": 4,
   "metadata": {},
   "outputs": [
    {
     "data": {
      "text/plain": [
       "'e:\\\\learning\\\\projects\\\\chest-ct-scan-calssification'"
      ]
     },
     "execution_count": 4,
     "metadata": {},
     "output_type": "execute_result"
    }
   ],
   "source": [
    "%pwd"
   ]
  },
  {
   "cell_type": "code",
   "execution_count": 5,
   "metadata": {},
   "outputs": [],
   "source": [
    "from dataclasses import dataclass\n",
    "from pathlib import Path\n",
    "\n",
    "\n",
    "@dataclass(frozen=True)\n",
    "class DataIngestionConfig:\n",
    "    root_dir: Path\n",
    "    source_URL: str\n",
    "    local_data_file: Path\n",
    "    unzip_dir: Path"
   ]
  },
  {
   "cell_type": "code",
   "execution_count": 6,
   "metadata": {},
   "outputs": [],
   "source": [
    "from cnnClassifier.constants import *\n",
    "from cnnClassifier.utils.common import read_yaml, create_directories"
   ]
  },
  {
   "cell_type": "code",
   "execution_count": 7,
   "metadata": {},
   "outputs": [],
   "source": [
    "class ConfigurationManager:\n",
    "    def __init__(\n",
    "        self,\n",
    "        config_filepath = CONFIG_FILE_PATH,\n",
    "        params_filepath = PARAMS_FILE_PATH):\n",
    "\n",
    "        self.config = read_yaml(config_filepath)\n",
    "        self.params = read_yaml(params_filepath)\n",
    "\n",
    "        create_directories([self.config.artifacts_root])\n",
    "\n",
    "\n",
    "    \n",
    "    def get_data_ingestion_config(self) -> DataIngestionConfig:\n",
    "        config = self.config.data_ingestion\n",
    "\n",
    "        create_directories([config.root_dir])\n",
    "\n",
    "        data_ingestion_config = DataIngestionConfig(\n",
    "            root_dir=config.root_dir,\n",
    "            source_URL=config.source_URL,\n",
    "            local_data_file=config.local_data_file,\n",
    "            unzip_dir=config.unzip_dir \n",
    "        )\n",
    "\n",
    "        return data_ingestion_config"
   ]
  },
  {
   "cell_type": "code",
   "execution_count": 8,
   "metadata": {},
   "outputs": [],
   "source": [
    "import os\n",
    "import zipfile\n",
    "import gdown\n",
    "from cnnClassifier import logger\n",
    "from cnnClassifier.utils.common import get_size"
   ]
  },
  {
   "cell_type": "code",
   "execution_count": null,
   "metadata": {},
   "outputs": [],
   "source": []
  },
  {
   "cell_type": "code",
   "execution_count": 9,
   "metadata": {},
   "outputs": [],
   "source": [
    "from zipfile import ZipFile"
   ]
  },
  {
   "cell_type": "code",
   "execution_count": 15,
   "metadata": {},
   "outputs": [],
   "source": [
    "from dataclasses import dataclass\n",
    "from pathlib import Path\n",
    "\n",
    "import os\n",
    "import json\n",
    "\n",
    "\n",
    "\n",
    "class DataIngestion:\n",
    "    \"\"\"Class for downloading and extracting data from Kaggle.\"\"\"\n",
    "\n",
    "    def __init__(self, config: DataIngestionConfig):\n",
    "        self.config = config\n",
    "\n",
    "\n",
    "        \n",
    "        os.environ[\"username\"] = \"muhammedabdelnaby\"\n",
    "        os.environ[\"api_key\"] = \"32567a3cafe8b49c96d56c5836d66b75\"\n",
    "\n",
    "       \n",
    "\n",
    "    def download_file(self) -> None:\n",
    "        try: \n",
    "            \"\"\"Downloads data from the specified source (Kaggle or Google Drive).\"\"\"\n",
    "            zip_download_dir = self.config.local_data_file\n",
    "            os.makedirs(\"artifacts/data_ingestion\", exist_ok=True)\n",
    "            logger.info(f\"Downloading data from kaggle into file {zip_download_dir}\")\n",
    "            dataset_name = \"mohamedhanyyy/chest-ctscan-images\"\n",
    "            !kaggle datasets download -p {zip_download_dir} {dataset_name}\n",
    "\n",
    "            logger.info(f\"Downloaded data to {self.config.local_data_file}\")\n",
    "        except Exception as e:\n",
    "            raise e\n",
    "\n",
    "\n",
    "    def extract_zip_file(self):\n",
    "        \"\"\"\n",
    "        zip_file_path: str\n",
    "        Extracts the zip file into the data directory\n",
    "        Function returns None\n",
    "        \"\"\"\n",
    "        zip_path=\"artifacts/data_ingestion/chest-ctscan-images.zip/chest-ctscan-images.zip\"\n",
    "        unzip_path = self.config.unzip_dir\n",
    "        os.makedirs(unzip_path, exist_ok=True)\n",
    "        with ZipFile(zip_path, 'r') as f: \n",
    "            f.extractall(unzip_path)"
   ]
  },
  {
   "cell_type": "code",
   "execution_count": 16,
   "metadata": {},
   "outputs": [
    {
     "name": "stdout",
     "output_type": "stream",
     "text": [
      "[2024-10-11 06:04:03,993: INFO: common: yaml file: config\\config.yaml loaded successfully]\n",
      "[2024-10-11 06:04:03,993: INFO: common: yaml file: params.yaml loaded successfully]\n",
      "[2024-10-11 06:04:04,000: INFO: common: created directory at: artifacts]\n",
      "[2024-10-11 06:04:04,004: INFO: common: created directory at: artifacts/data_ingestion]\n",
      "[2024-10-11 06:04:04,006: INFO: 1076056654: Downloading data from kaggle into file artifacts/data_ingestion/chest-ctscan-images.zip]\n",
      "Dataset URL: https://www.kaggle.com/datasets/mohamedhanyyy/chest-ctscan-images\n",
      "License(s): ODbL-1.0\n",
      "Downloading chest-ctscan-images.zip to artifacts/data_ingestion/chest-ctscan-images.zip\n",
      "\n",
      "[2024-10-11 06:04:15,023: INFO: 1076056654: Downloaded data to artifacts/data_ingestion/chest-ctscan-images.zip]\n"
     ]
    },
    {
     "name": "stderr",
     "output_type": "stream",
     "text": [
      "\n",
      "  0%|          | 0.00/119M [00:00<?, ?B/s]\n",
      "  1%|          | 1.00M/119M [00:00<00:13, 9.02MB/s]\n",
      "  3%|▎         | 3.00M/119M [00:00<00:10, 11.5MB/s]\n",
      "  4%|▍         | 5.00M/119M [00:00<00:09, 12.2MB/s]\n",
      "  6%|▌         | 7.00M/119M [00:00<00:09, 12.7MB/s]\n",
      "  8%|▊         | 9.00M/119M [00:00<00:08, 13.4MB/s]\n",
      "  9%|▉         | 11.0M/119M [00:00<00:08, 13.0MB/s]\n",
      " 11%|█         | 13.0M/119M [00:01<00:08, 13.2MB/s]\n",
      " 13%|█▎        | 15.0M/119M [00:01<00:08, 13.3MB/s]\n",
      " 14%|█▍        | 17.0M/119M [00:01<00:07, 13.4MB/s]\n",
      " 16%|█▌        | 19.0M/119M [00:01<00:07, 13.4MB/s]\n",
      " 18%|█▊        | 21.0M/119M [00:01<00:07, 13.8MB/s]\n",
      " 19%|█▉        | 23.0M/119M [00:01<00:07, 13.7MB/s]\n",
      " 21%|██        | 25.0M/119M [00:01<00:07, 13.4MB/s]\n",
      " 23%|██▎       | 27.0M/119M [00:02<00:07, 13.4MB/s]\n",
      " 24%|██▍       | 29.0M/119M [00:02<00:06, 13.5MB/s]\n",
      " 26%|██▌       | 31.0M/119M [00:02<00:06, 13.6MB/s]\n",
      " 28%|██▊       | 33.0M/119M [00:02<00:06, 13.5MB/s]\n",
      " 30%|██▉       | 35.0M/119M [00:02<00:06, 13.6MB/s]\n",
      " 31%|███       | 37.0M/119M [00:02<00:06, 13.5MB/s]\n",
      " 33%|███▎      | 39.0M/119M [00:03<00:06, 13.6MB/s]\n",
      " 35%|███▍      | 41.0M/119M [00:03<00:05, 13.6MB/s]\n",
      " 36%|███▋      | 43.0M/119M [00:03<00:05, 13.5MB/s]\n",
      " 38%|███▊      | 45.0M/119M [00:03<00:05, 13.5MB/s]\n",
      " 40%|███▉      | 47.0M/119M [00:03<00:05, 13.6MB/s]\n",
      " 41%|████▏     | 49.0M/119M [00:03<00:05, 13.6MB/s]\n",
      " 43%|████▎     | 51.0M/119M [00:04<00:05, 13.6MB/s]\n",
      " 45%|████▍     | 53.0M/119M [00:04<00:04, 13.8MB/s]\n",
      " 46%|████▋     | 55.0M/119M [00:04<00:04, 13.6MB/s]\n",
      " 48%|████▊     | 57.0M/119M [00:04<00:04, 13.5MB/s]\n",
      " 50%|████▉     | 59.0M/119M [00:04<00:04, 13.6MB/s]\n",
      " 51%|█████▏    | 61.0M/119M [00:04<00:04, 13.5MB/s]\n",
      " 53%|█████▎    | 63.0M/119M [00:04<00:04, 13.7MB/s]\n",
      " 55%|█████▍    | 65.0M/119M [00:05<00:04, 13.6MB/s]\n",
      " 56%|█████▋    | 67.0M/119M [00:05<00:03, 13.8MB/s]\n",
      " 58%|█████▊    | 69.0M/119M [00:05<00:03, 13.6MB/s]\n",
      " 60%|█████▉    | 71.0M/119M [00:05<00:03, 13.2MB/s]\n",
      " 62%|██████▏   | 73.0M/119M [00:05<00:03, 13.8MB/s]\n",
      " 63%|██████▎   | 75.0M/119M [00:05<00:03, 13.5MB/s]\n",
      " 65%|██████▍   | 77.0M/119M [00:06<00:03, 13.6MB/s]\n",
      " 67%|██████▋   | 79.0M/119M [00:06<00:03, 13.5MB/s]\n",
      " 68%|██████▊   | 81.0M/119M [00:06<00:02, 13.7MB/s]\n",
      " 70%|██████▉   | 83.0M/119M [00:06<00:02, 13.4MB/s]\n",
      " 72%|███████▏  | 85.0M/119M [00:06<00:02, 13.3MB/s]\n",
      " 73%|███████▎  | 87.0M/119M [00:06<00:02, 13.6MB/s]\n",
      " 75%|███████▌  | 89.0M/119M [00:06<00:02, 13.6MB/s]\n",
      " 77%|███████▋  | 91.0M/119M [00:07<00:02, 12.8MB/s]\n",
      " 78%|███████▊  | 93.0M/119M [00:07<00:02, 12.5MB/s]\n",
      " 80%|████████  | 95.0M/119M [00:07<00:01, 12.5MB/s]\n",
      " 82%|████████▏ | 97.0M/119M [00:07<00:01, 11.9MB/s]\n",
      " 83%|████████▎ | 99.0M/119M [00:07<00:01, 12.4MB/s]\n",
      " 85%|████████▌ | 101M/119M [00:08<00:01, 12.0MB/s] \n",
      " 87%|████████▋ | 103M/119M [00:08<00:01, 11.7MB/s]\n",
      " 89%|████████▊ | 105M/119M [00:08<00:01, 12.2MB/s]\n",
      " 90%|█████████ | 107M/119M [00:08<00:00, 12.5MB/s]\n",
      " 92%|█████████▏| 109M/119M [00:08<00:00, 12.8MB/s]\n",
      " 94%|█████████▎| 111M/119M [00:08<00:00, 13.0MB/s]\n",
      " 95%|█████████▌| 113M/119M [00:08<00:00, 13.1MB/s]\n",
      " 97%|█████████▋| 115M/119M [00:09<00:00, 13.3MB/s]\n",
      " 99%|█████████▊| 117M/119M [00:09<00:00, 13.3MB/s]\n",
      "100%|██████████| 119M/119M [00:09<00:00, 13.5MB/s]\n",
      "100%|██████████| 119M/119M [00:09<00:00, 13.2MB/s]\n"
     ]
    }
   ],
   "source": [
    "try:\n",
    "    config = ConfigurationManager()\n",
    "    data_ingestion_config = config.get_data_ingestion_config()\n",
    "    data_ingestion = DataIngestion(config=data_ingestion_config)\n",
    "    data_ingestion.download_file()\n",
    "    #\n",
    "except Exception as e:\n",
    "    raise e"
   ]
  },
  {
   "cell_type": "code",
   "execution_count": 17,
   "metadata": {},
   "outputs": [],
   "source": [
    "data_ingestion.extract_zip_file()"
   ]
  },
  {
   "cell_type": "code",
   "execution_count": null,
   "metadata": {},
   "outputs": [],
   "source": []
  }
 ],
 "metadata": {
  "kernelspec": {
   "display_name": "chestC_env",
   "language": "python",
   "name": "python3"
  },
  "language_info": {
   "codemirror_mode": {
    "name": "ipython",
    "version": 3
   },
   "file_extension": ".py",
   "mimetype": "text/x-python",
   "name": "python",
   "nbconvert_exporter": "python",
   "pygments_lexer": "ipython3",
   "version": "3.8.0"
  },
  "orig_nbformat": 4
 },
 "nbformat": 4,
 "nbformat_minor": 2
}
